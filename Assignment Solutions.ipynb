{
 "cells": [
  {
   "cell_type": "markdown",
   "metadata": {},
   "source": [
    "## Q1\n",
    "####  Create a function in python to read the text file and replace specific content of the file.\n"
   ]
  },
  {
   "cell_type": "code",
   "execution_count": 21,
   "metadata": {},
   "outputs": [],
   "source": [
    "# writing a function toreplace specific text\n",
    "import os\n",
    "\n",
    "def replace_text(text_path: str, text: str, text_to_replace: str, save_as_new: bool = False):\n",
    "    \"\"\"\n",
    "    This Function should replace a specific text will pass `text_to_replace` argument from a sentence.\n",
    "    Argument:  text_path:(str) path of the txt file.\n",
    "               text:(str) text that will be replace.\n",
    "               text_to_replace:(str) new text that will be placed.\n",
    "               save_as_new:(str) whether to save as new text file.\n",
    "    \"\"\"\n",
    "    # opening txt file\n",
    "    try:\n",
    "        with open(text_path, 'r') as file:\n",
    "            data = file.read() # reading the file\n",
    "            file.close()\n",
    "        # replacing old text with new text\n",
    "        new_data = data.replace(text, text_to_replace) \n",
    "        if save_as_new: # saving new text file with new sentences\n",
    "            with open(\"new_\" + text_path, \"w\") as file:\n",
    "                file.write(new_data)\n",
    "                file.close()\n",
    "        else: # replacing existing text with new text\n",
    "            with open(text_path, \"w\") as file:\n",
    "                file.write(new_data)\n",
    "                file.close()\n",
    "    except Exception as e:\n",
    "        print(e)"
   ]
  },
  {
   "cell_type": "code",
   "execution_count": 22,
   "metadata": {},
   "outputs": [],
   "source": [
    "# calling the functon\n",
    "\n",
    "replace_text(text_path=\"sam.txt\", # created manually\n",
    "                    text=\"placement\",\n",
    "                    text_to_replace=\"screening\",\n",
    "                    save_as_new=True) \n"
   ]
  },
  {
   "cell_type": "code",
   "execution_count": null,
   "metadata": {},
   "outputs": [],
   "source": []
  },
  {
   "cell_type": "markdown",
   "metadata": {},
   "source": [
    "### Q2\n",
    "#### Demonstrate use of abstract class, multiple inheritance and decorator in  python using examples."
   ]
  },
  {
   "cell_type": "markdown",
   "metadata": {},
   "source": [
    "* Abstract Class\n",
    "\n",
    "An abstract method is a method that we declare but we do not implement it,  also we can not create class instance for abstract class. In python in creating abstract class we have to use ABC module. When creating abstract class we have to inherite `ABC` class import from `abc` and `abstractmethod`, In order to create abstract methode we have to decorate the methode with `@abstractmethod` just above the metode."
   ]
  },
  {
   "cell_type": "code",
   "execution_count": 3,
   "metadata": {},
   "outputs": [],
   "source": [
    "# NOw creating abstract class called AI which has two abstract methode \n",
    "from abc import ABC, abstractmethod\n",
    "\n",
    "class AI(ABC):\n",
    "    # creating abstract methodes\n",
    "    @abstractmethod\n",
    "    def divison(self):\n",
    "        pass\n",
    "    \n",
    "    @abstractmethod\n",
    "    def workingData(self):\n",
    "        pass"
   ]
  },
  {
   "cell_type": "code",
   "execution_count": 4,
   "metadata": {},
   "outputs": [
    {
     "ename": "TypeError",
     "evalue": "Can't instantiate abstract class AI with abstract methods divison, workingData",
     "output_type": "error",
     "traceback": [
      "\u001b[1;31m---------------------------------------------------------------------------\u001b[0m",
      "\u001b[1;31mTypeError\u001b[0m                                 Traceback (most recent call last)",
      "\u001b[1;32m<ipython-input-4-baa8829226a6>\u001b[0m in \u001b[0;36m<module>\u001b[1;34m\u001b[0m\n\u001b[0;32m      1\u001b[0m \u001b[1;31m# as can not create instance of abstract class the following code will trough error\u001b[0m\u001b[1;33m\u001b[0m\u001b[1;33m\u001b[0m\u001b[1;33m\u001b[0m\u001b[0m\n\u001b[1;32m----> 2\u001b[1;33m \u001b[0mabc\u001b[0m \u001b[1;33m=\u001b[0m \u001b[0mAI\u001b[0m\u001b[1;33m(\u001b[0m\u001b[1;33m)\u001b[0m\u001b[1;33m\u001b[0m\u001b[1;33m\u001b[0m\u001b[0m\n\u001b[0m",
      "\u001b[1;31mTypeError\u001b[0m: Can't instantiate abstract class AI with abstract methods divison, workingData"
     ]
    }
   ],
   "source": [
    "# as can not create instance of abstract class the following code will trough error\n",
    "abc = AI()"
   ]
  },
  {
   "cell_type": "code",
   "execution_count": 5,
   "metadata": {},
   "outputs": [],
   "source": [
    "# Creating separate class inherite the abstract class\n",
    "class MachineLearning(AI):\n",
    "    def divison(self):\n",
    "        print(\"Its Machine Learning\")\n",
    "        \n",
    "    def workingData(self):\n",
    "        print(\"Work with both Structured and Unstructured data\")\n",
    "        \n",
    "class DeepLearning(AI):\n",
    "    def divison(self):\n",
    "        print(\"Its Deep Learning\")\n",
    "        \n",
    "    def workingData(self):\n",
    "        print(\"Mostly work with Unstructured data\")\n",
    "        \n",
    "class ComputerVision(AI):\n",
    "    def divison(self):\n",
    "        print(\"Its Computer Vision\")\n",
    "        \n",
    "    def workingData(self):\n",
    "        print(\"Work with both Structured and Unstructured data\")\n",
    "        \n",
    "class NLP(AI):\n",
    "    def divison(self):\n",
    "        print(\"Its Natural Language Processing\")\n",
    "        \n",
    "    def workingData(self):\n",
    "        print(\"Work with natural text data\")"
   ]
  },
  {
   "cell_type": "code",
   "execution_count": 6,
   "metadata": {},
   "outputs": [],
   "source": [
    "# Creating class instances\n",
    "ml = MachineLearning()\n",
    "dl = DeepLearning()\n",
    "cv = ComputerVision()\n",
    "nlp = NLP()"
   ]
  },
  {
   "cell_type": "code",
   "execution_count": 7,
   "metadata": {},
   "outputs": [
    {
     "name": "stdout",
     "output_type": "stream",
     "text": [
      "Its Machine Learning\n",
      "Its Deep Learning\n",
      "Its Computer Vision\n",
      "Its Natural Language Processing\n"
     ]
    }
   ],
   "source": [
    "# calling divison method\n",
    "ml.divison()\n",
    "dl.divison()\n",
    "cv.divison()\n",
    "nlp.divison()"
   ]
  },
  {
   "cell_type": "code",
   "execution_count": 8,
   "metadata": {},
   "outputs": [
    {
     "name": "stdout",
     "output_type": "stream",
     "text": [
      "Work with both Structured and Unstructured data\n",
      "Mostly work with Unstructured data\n",
      "Work with both Structured and Unstructured data\n",
      "Work with natural text data\n"
     ]
    }
   ],
   "source": [
    "# Calling Workig data\n",
    "ml.workingData()\n",
    "dl.workingData()\n",
    "cv.workingData()\n",
    "nlp.workingData()"
   ]
  },
  {
   "cell_type": "markdown",
   "metadata": {},
   "source": [
    "### Multiple Inheritance"
   ]
  },
  {
   "cell_type": "markdown",
   "metadata": {},
   "source": [
    "In multiple inheritance we can drived from more than one classes. all the methods and feature from parents classes can be inheriate in derived class. Just like we inheriate single class by passing the parent class name inside parenthesis when child class is creating, we can pass multiple parent class separiting by comma."
   ]
  },
  {
   "cell_type": "code",
   "execution_count": 9,
   "metadata": {},
   "outputs": [],
   "source": [
    "# Parent class 1\n",
    "class Father():\n",
    "    father_name = \"\"\n",
    "    def father(self): # method to show father name.\n",
    "        print(f\"Father name is  {self.father_name}\")\n",
    "\n",
    "# Parent class 2        \n",
    "class Mother():\n",
    "    mother_name = \"\"\n",
    "    def mother(self): # method to show father name.\n",
    "        prit(f\"Mother name is {self.mother_name}\")\n",
    "\n",
    "# child class\n",
    "class Child(Father, Mother):\n",
    "    def parent(self): # method to show parents name.\n",
    "        print(f\"Father name is {self.father_name} and mother name is {self.mother_name}\")"
   ]
  },
  {
   "cell_type": "code",
   "execution_count": 10,
   "metadata": {},
   "outputs": [
    {
     "name": "stdout",
     "output_type": "stream",
     "text": [
      "Father name is Ram and mother name is Sita\n"
     ]
    }
   ],
   "source": [
    "# creating instanc eof chield class\n",
    "c = Child()\n",
    "\n",
    "# setting up names\n",
    "c.father_name = \"Ram\"\n",
    "c.mother_name = \"Sita\"\n",
    "c.parent() # calling parent method form Child class."
   ]
  },
  {
   "cell_type": "code",
   "execution_count": 11,
   "metadata": {},
   "outputs": [],
   "source": [
    "# Another example of multiple inheritance with arguments\n",
    "\n",
    "class FrontEndDev:\n",
    "    def __init__(self, react, anguler):\n",
    "        self.react = react\n",
    "        self.anguler = anguler\n",
    "\n",
    "    def info(self):\n",
    "        print(f\"FrontEnd dev works with {self.react} and {self.angular}\")\n",
    "\n",
    "class BackEndDev:\n",
    "    def __init__(self, nodeJs):\n",
    "        self.nodeJs = nodeJs\n",
    "\n",
    "    def info(self):\n",
    "        print(f\"BackEnd dev works with {self.nodeJs}\")\n",
    "\n",
    "\n",
    "class FullStackDev(FrontEndDev, BackEndDev):\n",
    "    def __init__(self, react, anguler, nodeJs):\n",
    "        self.react = react\n",
    "        self.anguler = anguler\n",
    "        self.nodeJs = nodeJs\n",
    "\n",
    "    def info(self):\n",
    "        print(f\"FullStack Dev works with {self.react}, {self.anguler} and {self.nodeJs}\")"
   ]
  },
  {
   "cell_type": "code",
   "execution_count": 12,
   "metadata": {},
   "outputs": [
    {
     "name": "stdout",
     "output_type": "stream",
     "text": [
      "FullStack Dev works with react - 18.0, angular-13.1.1 and nodeJs-12.20\n"
     ]
    }
   ],
   "source": [
    "fd = FullStackDev(\"react - 18.0\", \"angular-13.1.1\", \"nodeJs-12.20\")\n",
    "fd.info()"
   ]
  },
  {
   "cell_type": "markdown",
   "metadata": {},
   "source": [
    "From above example we can see that FullStack Dev class inheriate from both FrontEnd and BackEnd class. and also can thy share the arguments"
   ]
  },
  {
   "cell_type": "markdown",
   "metadata": {},
   "source": [
    "#### Decorator"
   ]
  },
  {
   "cell_type": "markdown",
   "metadata": {},
   "source": [
    "Decorators are the way to change or modify the behavior of our any functon or class method without changing anything inside the code. If a function is a decorator function then it return a function. decorator we define by the `@` sign followed by the decorator function name with out space.  \n",
    "\n",
    "It is not necessary that if a function return function then it should be decorator function, but we have the flexibility to use such way a function.\n",
    "\n",
    "Inside main function there is another function we define called `wrapper` function and name can be anything but best practices is named it `wrapper`. this the the function which the main decorator function return"
   ]
  },
  {
   "cell_type": "code",
   "execution_count": 13,
   "metadata": {},
   "outputs": [],
   "source": [
    "# creatig a function for use as decorator\n",
    "def dec(func):\n",
    "    \"\"\"\n",
    "    Function which take a function as arguments.\n",
    "    \"\"\"\n",
    "    def wrapper(*args, **kwargs): # used *args, and **kwargs for take any input.\n",
    "        \"\"\"\n",
    "        wrapper function\n",
    "        \"\"\"\n",
    "        print(\"Wrapper function start.\") # printing something to make sure code run through here\n",
    "        func() # running input function.\n",
    "        print(\"Input function run successfully\")\n",
    "    return wrapper # returning the inner function "
   ]
  },
  {
   "cell_type": "code",
   "execution_count": 14,
   "metadata": {},
   "outputs": [
    {
     "name": "stdout",
     "output_type": "stream",
     "text": [
      "Hello world\n"
     ]
    }
   ],
   "source": [
    "# creating function without using decorator\n",
    "def hello_WithOutDecorator():\n",
    "    print(\"Hello world\")\n",
    "    \n",
    "    \n",
    "# calling the function    \n",
    "hello_WithOutDecorator()"
   ]
  },
  {
   "cell_type": "code",
   "execution_count": 15,
   "metadata": {},
   "outputs": [
    {
     "name": "stdout",
     "output_type": "stream",
     "text": [
      "Wrapper function start.\n",
      "Hello World\n",
      "Input function run successfully\n"
     ]
    }
   ],
   "source": [
    "# Creating the same function decorator.\n",
    "@dec\n",
    "def hello_WithDecorator():\n",
    "    print(\"Hello World\")\n",
    "    \n",
    "# Calling the function\n",
    "hello_WithDecorator()"
   ]
  },
  {
   "cell_type": "markdown",
   "metadata": {},
   "source": [
    "When i call the hello() function that is created without decorator it simply run it declaration code. but when i used decorator it not only run the it's own state but also run other code that is defined inside wrapper function.\n",
    "\n",
    "What actually happned here...\n",
    "when i used `@dec` just above my custome function it acutally take the new defied function(`hello`) as input of the `def` function."
   ]
  },
  {
   "cell_type": "code",
   "execution_count": 16,
   "metadata": {},
   "outputs": [
    {
     "data": {
      "text/plain": [
       "<function __main__.dec.<locals>.wrapper(*args, **kwargs)>"
      ]
     },
     "execution_count": 16,
     "metadata": {},
     "output_type": "execute_result"
    }
   ],
   "source": [
    "# in order to achive same output from noo-decorated function\n",
    "f = dec(hello_WithOutDecorator) # calling the dec function by passing the non decorated function.\n",
    "\n",
    "# checking the f. it is a function, because `dec` function return a function.\n",
    "f"
   ]
  },
  {
   "cell_type": "code",
   "execution_count": 17,
   "metadata": {},
   "outputs": [
    {
     "name": "stdout",
     "output_type": "stream",
     "text": [
      "Wrapper function start.\n",
      "Hello world\n",
      "Input function run successfully\n"
     ]
    }
   ],
   "source": [
    "# getting the result\n",
    "f() # as it is function, we have to call it with parenthesis."
   ]
  },
  {
   "cell_type": "markdown",
   "metadata": {},
   "source": [
    "##### Use Case of decorator"
   ]
  },
  {
   "cell_type": "code",
   "execution_count": 18,
   "metadata": {},
   "outputs": [],
   "source": [
    "# Creating a function which will measure how much time it taking a function for running\n",
    "import time\n",
    "\n",
    "def track(func):\n",
    "    \"\"\"\n",
    "    Function which will track time taken to run a function.\n",
    "    \"\"\"\n",
    "    def wrapper(*args, **kwargs):\n",
    "        start = time.time() # taking the present time\n",
    "        func() # running the input function\n",
    "        time_taken = time.time() - start\n",
    "        print(f\"Funcion take {time_taken} sec.\")\n",
    "    return wrapper"
   ]
  },
  {
   "cell_type": "code",
   "execution_count": 19,
   "metadata": {},
   "outputs": [
    {
     "name": "stdout",
     "output_type": "stream",
     "text": [
      "am going to sleep.😴😴😴\n",
      "am wake 😀😀😀\n",
      "Funcion take 4.005763292312622 sec.\n"
     ]
    }
   ],
   "source": [
    "# creating a function which will do nothing but slepp for 4 sec using the  time tracker decorator.\n",
    "@track\n",
    "def sleep_4_sec():\n",
    "    print(\"am going to sleep.😴😴😴\")\n",
    "    time.sleep(4)\n",
    "    print(\"am wake 😀😀😀\")\n",
    "\n",
    "sleep_4_sec()"
   ]
  },
  {
   "cell_type": "code",
   "execution_count": null,
   "metadata": {},
   "outputs": [],
   "source": []
  }
 ],
 "metadata": {
  "kernelspec": {
   "display_name": "Python 3",
   "language": "python",
   "name": "python3"
  },
  "language_info": {
   "codemirror_mode": {
    "name": "ipython",
    "version": 3
   },
   "file_extension": ".py",
   "mimetype": "text/x-python",
   "name": "python",
   "nbconvert_exporter": "python",
   "pygments_lexer": "ipython3",
   "version": "3.8.5"
  }
 },
 "nbformat": 4,
 "nbformat_minor": 4
}
